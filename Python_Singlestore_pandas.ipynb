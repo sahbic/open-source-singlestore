{
 "cells": [
  {
   "cell_type": "markdown",
   "metadata": {},
   "source": [
    "# Exemple Python Pandas et Singlestore"
   ]
  },
  {
   "cell_type": "markdown",
   "metadata": {},
   "source": [
    "Variables d'environnement"
   ]
  },
  {
   "cell_type": "code",
   "execution_count": 1,
   "metadata": {},
   "outputs": [],
   "source": [
    "from dotenv import load_dotenv\n",
    "import os\n",
    "\n",
    "# Load environment variables from a .env file\n",
    "load_dotenv()\n",
    "\n",
    "# Access the variables\n",
    "HOST_DML = os.getenv(\"HOST_DML\")\n",
    "USERDB = os.getenv(\"USERDB\")\n",
    "PASSDB = os.getenv(\"PASSDB\")"
   ]
  },
  {
   "cell_type": "markdown",
   "metadata": {},
   "source": [
    "Connection à la base de donnée source"
   ]
  },
  {
   "cell_type": "code",
   "execution_count": 2,
   "metadata": {},
   "outputs": [],
   "source": [
    "import singlestoredb as s2\n",
    "source = s2.connect(host=HOST_DML, port='3306', user=USERDB,\n",
    "                  password=PASSDB, database='tpch')"
   ]
  },
  {
   "cell_type": "markdown",
   "metadata": {},
   "source": [
    "Requête SQL"
   ]
  },
  {
   "cell_type": "code",
   "execution_count": 3,
   "metadata": {},
   "outputs": [
    {
     "name": "stderr",
     "output_type": "stream",
     "text": [
      "/tmp/ipykernel_14909/2202941423.py:17: UserWarning: pandas only supports SQLAlchemy connectable (engine/connection) or database string URI or sqlite3 DBAPI2 connection. Other DBAPI2 objects are not tested. Please consider using SQLAlchemy.\n",
      "  df = pd.read_sql(query_sql, source)\n"
     ]
    }
   ],
   "source": [
    "import pandas as pd\n",
    "\n",
    "query_sql = \"\"\"\n",
    "    SELECT YEAR(o_orderdate) AS order_year,\n",
    "           COUNT(*) AS order_count,\n",
    "           SUM(o_totalprice) AS total_spent\n",
    "    FROM orders\n",
    "    WHERE o_orderdate >= '1995-01-01'\n",
    "    GROUP BY YEAR(o_orderdate);\n",
    "\"\"\"\n",
    "\n",
    "with source.cursor() as cur:\n",
    "    cur.execute(query_sql)\n",
    "    source.commit()\n",
    "\n",
    "# Fetch the results into a DataFrame\n",
    "df = pd.read_sql(query_sql, source)"
   ]
  },
  {
   "cell_type": "code",
   "execution_count": 4,
   "metadata": {},
   "outputs": [
    {
     "data": {
      "text/html": [
       "<div>\n",
       "<style scoped>\n",
       "    .dataframe tbody tr th:only-of-type {\n",
       "        vertical-align: middle;\n",
       "    }\n",
       "\n",
       "    .dataframe tbody tr th {\n",
       "        vertical-align: top;\n",
       "    }\n",
       "\n",
       "    .dataframe thead th {\n",
       "        text-align: right;\n",
       "    }\n",
       "</style>\n",
       "<table border=\"1\" class=\"dataframe\">\n",
       "  <thead>\n",
       "    <tr style=\"text-align: right;\">\n",
       "      <th></th>\n",
       "      <th>order_year</th>\n",
       "      <th>order_count</th>\n",
       "      <th>total_spent</th>\n",
       "    </tr>\n",
       "  </thead>\n",
       "  <tbody>\n",
       "    <tr>\n",
       "      <th>0</th>\n",
       "      <td>1998</td>\n",
       "      <td>13341863</td>\n",
       "      <td>2.016259e+12</td>\n",
       "    </tr>\n",
       "    <tr>\n",
       "      <th>1</th>\n",
       "      <td>1995</td>\n",
       "      <td>22754973</td>\n",
       "      <td>3.438388e+12</td>\n",
       "    </tr>\n",
       "    <tr>\n",
       "      <th>2</th>\n",
       "      <td>1996</td>\n",
       "      <td>22819651</td>\n",
       "      <td>3.449188e+12</td>\n",
       "    </tr>\n",
       "    <tr>\n",
       "      <th>3</th>\n",
       "      <td>1997</td>\n",
       "      <td>22760815</td>\n",
       "      <td>3.439552e+12</td>\n",
       "    </tr>\n",
       "  </tbody>\n",
       "</table>\n",
       "</div>"
      ],
      "text/plain": [
       "   order_year  order_count   total_spent\n",
       "0        1998     13341863  2.016259e+12\n",
       "1        1995     22754973  3.438388e+12\n",
       "2        1996     22819651  3.449188e+12\n",
       "3        1997     22760815  3.439552e+12"
      ]
     },
     "execution_count": 4,
     "metadata": {},
     "output_type": "execute_result"
    }
   ],
   "source": [
    "# Display the first few rows of the DataFrame\n",
    "df.head()"
   ]
  },
  {
   "cell_type": "markdown",
   "metadata": {},
   "source": [
    "Connection à la base de donnée Datamart"
   ]
  },
  {
   "cell_type": "code",
   "execution_count": 5,
   "metadata": {},
   "outputs": [
    {
     "data": {
      "text/plain": [
       "4"
      ]
     },
     "execution_count": 5,
     "metadata": {},
     "output_type": "execute_result"
    }
   ],
   "source": [
    "import sqlalchemy as sa\n",
    "from sqlalchemy import create_engine\n",
    "\n",
    "engine_dtm = create_engine(f'singlestoredb://{USERDB}:{PASSDB}@{HOST_DML}/dtm')\n",
    "target = engine_dtm.connect()\n",
    "\n",
    "# Write the DataFrame to a new table in the target database\n",
    "df.to_sql('orders_summary_python', con=target, index=False, if_exists='replace')"
   ]
  },
  {
   "cell_type": "markdown",
   "metadata": {},
   "source": [
    "Exemple select avec la syntaxe SQLAlchemy"
   ]
  },
  {
   "cell_type": "code",
   "execution_count": 6,
   "metadata": {},
   "outputs": [
    {
     "name": "stdout",
     "output_type": "stream",
     "text": [
      "(1997, 22760815, 3439550000000.0)\n",
      "(1995, 22754973, 3438390000000.0)\n",
      "(1998, 13341863, 2016260000000.0)\n",
      "(1996, 22819651, 3449190000000.0)\n"
     ]
    }
   ],
   "source": [
    "# Create a metadata object for the database\n",
    "if sa.__version__.startswith('1'):\n",
    "    db = sa.MetaData(bind=engine_dtm)\n",
    "    sa.MetaData.reflect(db)\n",
    "else:\n",
    "    db = sa.MetaData()\n",
    "    db.reflect(bind=engine_dtm)\n",
    "\n",
    "# Get the iris table from reflected data\n",
    "sa_tbl = db.tables['orders_summary_python']\n",
    "\n",
    "# Query the iris table\n",
    "query = sa.select(sa_tbl).limit(10)\n",
    "\n",
    "# Print results\n",
    "for row in target.execute(query):\n",
    "    print(row)"
   ]
  },
  {
   "cell_type": "markdown",
   "metadata": {},
   "source": [
    "Jointure entre deux tables dans deux bases de données différentes"
   ]
  },
  {
   "cell_type": "code",
   "execution_count": 2,
   "metadata": {},
   "outputs": [
    {
     "name": "stdout",
     "output_type": "stream",
     "text": [
      "   o_orderkey o_orderdate  o_custkey  c_custkey              c_name\n",
      "0   105200582  1996-08-19    5975891    5975891  Customer#005975891\n",
      "1   105284615  1994-01-24   10812580   10812580  Customer#010812580\n",
      "2   105511777  1995-06-23   14426798   14426798  Customer#014426798\n",
      "3   105552583  1994-03-12   11870152   11870152  Customer#011870152\n",
      "4   105582881  1994-04-24    9999514    9999514  Customer#009999514\n"
     ]
    }
   ],
   "source": [
    "import pandas as pd\n",
    "from sqlalchemy import create_engine, text\n",
    "\n",
    "# Create engine\n",
    "engine = create_engine(f'singlestoredb://{USERDB}:{PASSDB}@{HOST_DML}')\n",
    "\n",
    "# Define SQL query\n",
    "query = \"\"\"\n",
    "    SELECT \n",
    "        o.o_orderkey,\n",
    "        o.o_orderdate,\n",
    "        o.o_custkey,\n",
    "        c.c_custkey,\n",
    "        c.c_name\n",
    "    FROM dtm.customer_scb AS c\n",
    "    LEFT JOIN tpch.orders AS o\n",
    "      ON o.o_custkey = c.c_custkey\n",
    "    LIMIT 10\n",
    "\"\"\"\n",
    "\n",
    "with engine.connect() as conn:\n",
    "    conn.execute(text(\"DROP TABLE IF EXISTS dtm.customer_orders_join\"))\n",
    "\n",
    "# Use connection to read SQL into DataFrame\n",
    "with engine.connect() as conn:\n",
    "    df = pd.read_sql(text(query), conn)\n",
    "\n",
    "# Display the DataFrame\n",
    "print(df.head())"
   ]
  },
  {
   "cell_type": "markdown",
   "metadata": {},
   "source": []
  }
 ],
 "metadata": {
  "kernelspec": {
   "display_name": "venv",
   "language": "python",
   "name": "python3"
  },
  "language_info": {
   "codemirror_mode": {
    "name": "ipython",
    "version": 3
   },
   "file_extension": ".py",
   "mimetype": "text/x-python",
   "name": "python",
   "nbconvert_exporter": "python",
   "pygments_lexer": "ipython3",
   "version": "3.11.11"
  }
 },
 "nbformat": 4,
 "nbformat_minor": 2
}
