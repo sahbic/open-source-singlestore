{
 "cells": [
  {
   "cell_type": "markdown",
   "metadata": {},
   "source": [
    "# API Python Singlestore\n",
    "\n",
    "https://docs.singlestore.com/cloud/developer-resources/connect-with-application-development-tools/connect-with-python/"
   ]
  },
  {
   "cell_type": "markdown",
   "metadata": {},
   "source": [
    "Variables d'environnement"
   ]
  },
  {
   "cell_type": "code",
   "execution_count": 1,
   "metadata": {},
   "outputs": [],
   "source": [
    "from dotenv import load_dotenv\n",
    "import os\n",
    "\n",
    "# Load environment variables from a .env file\n",
    "load_dotenv()\n",
    "\n",
    "# Access the variables\n",
    "HOST_DML = os.getenv(\"HOST_DML\")\n",
    "USERDB = os.getenv(\"USERDB\")\n",
    "PASSDB = os.getenv(\"PASSDB\")"
   ]
  },
  {
   "cell_type": "markdown",
   "metadata": {},
   "source": [
    "SQLAlchemy"
   ]
  },
  {
   "cell_type": "code",
   "execution_count": 2,
   "metadata": {},
   "outputs": [
    {
     "name": "stdout",
     "output_type": "stream",
     "text": [
      "(538837902,)\n"
     ]
    }
   ],
   "source": [
    "from sqlalchemy import create_engine, text\n",
    "\n",
    "engine = create_engine(f'singlestoredb://{USERDB}:{PASSDB}@{HOST_DML}/tpch')\n",
    "conn = engine.connect()\n",
    "result = conn.execute(text(\"SELECT COUNT(*) FROM lineitem\"))\n",
    "for row in result:\n",
    "    print(row)"
   ]
  },
  {
   "cell_type": "markdown",
   "metadata": {},
   "source": [
    "Client Python Singlestore"
   ]
  },
  {
   "cell_type": "code",
   "execution_count": 3,
   "metadata": {},
   "outputs": [
    {
     "name": "stdout",
     "output_type": "stream",
     "text": [
      "(538837902,)\n"
     ]
    }
   ],
   "source": [
    "import singlestoredb as s2\n",
    "conn = s2.connect(host=HOST_DML, port='3306', user=USERDB,\n",
    "                  password=PASSDB, database='tpch')\n",
    "\n",
    "with conn.cursor() as cur:\n",
    "    cur.execute('SELECT COUNT(*) FROM lineitem')\n",
    "    for row in cur.fetchall():\n",
    "        print(row)"
   ]
  },
  {
   "cell_type": "code",
   "execution_count": null,
   "metadata": {},
   "outputs": [],
   "source": []
  }
 ],
 "metadata": {
  "kernelspec": {
   "display_name": "venv",
   "language": "python",
   "name": "python3"
  },
  "language_info": {
   "codemirror_mode": {
    "name": "ipython",
    "version": 3
   },
   "file_extension": ".py",
   "mimetype": "text/x-python",
   "name": "python",
   "nbconvert_exporter": "python",
   "pygments_lexer": "ipython3",
   "version": "3.11.11"
  }
 },
 "nbformat": 4,
 "nbformat_minor": 2
}
